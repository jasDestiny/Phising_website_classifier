{
 "cells": [
  {
   "cell_type": "code",
   "execution_count": 2,
   "metadata": {},
   "outputs": [
    {
     "name": "stdout",
     "output_type": "stream",
     "text": [
      "./projectDL.ipynb\n",
      "./projectML.ipynb\n",
      "./Website Phishing.csv\n",
      "./.ipynb_checkpoints\\project-checkpoint.ipynb\n",
      "./.ipynb_checkpoints\\projectDL-checkpoint.ipynb\n",
      "./.ipynb_checkpoints\\projectML-checkpoint.ipynb\n",
      "./.ipynb_checkpoints\\Untitled-checkpoint.ipynb\n"
     ]
    }
   ],
   "source": [
    "import numpy as np\n",
    "import pandas as pd\n",
    "import os\n",
    "\n",
    "for dirname, _, filenames in os.walk('./'):\n",
    "    for filename in filenames:\n",
    "        print(os.path.join(dirname, filename))\n"
   ]
  },
  {
   "cell_type": "code",
   "execution_count": null,
   "metadata": {},
   "outputs": [],
   "source": [
    "# Single layer perceptron implementation"
   ]
  },
  {
   "cell_type": "code",
   "execution_count": 81,
   "metadata": {},
   "outputs": [],
   "source": [
    "def calculate_precision(arr):\n",
    "    precision=[]\n",
    "    for i in range(len(arr)):\n",
    "        sumVal=0\n",
    "        for j in range(len(arr)):\n",
    "            sumVal+=arr[i][j]\n",
    "        precision.append(arr[i][i]/sumVal)\n",
    "    return precision"
   ]
  },
  {
   "cell_type": "code",
   "execution_count": 82,
   "metadata": {},
   "outputs": [],
   "source": [
    "def calculate_accuracy(arr):\n",
    "    leading_diagonal=0\n",
    "    for i in range(0, len(arr)):\n",
    "        leading_diagonal+=arr[i][i]\n",
    "    return leading_diagonal/sum(sum(np.array(arr)))\n",
    "\n",
    "def calculate_recall(arr):\n",
    "    recall=[]\n",
    "    for i in range(len(arr)):\n",
    "        sumVal=0\n",
    "        for j in range(len(arr)):\n",
    "            sumVal+=arr[j][i]\n",
    "        recall.append(arr[i][i]/sumVal)\n",
    "    return recall"
   ]
  },
  {
   "cell_type": "code",
   "execution_count": 3,
   "metadata": {},
   "outputs": [],
   "source": [
    "import numpy as np\n",
    "\n",
    "class Perceptron:\n",
    "    def __init__(self, learning_rate=0.05, n_iters=1000):\n",
    "        self.lr = learning_rate\n",
    "        self.n_iters = n_iters\n",
    "        self.activation_func = self._unit_step_func\n",
    "        self.weights = None\n",
    "        self.bias = None\n",
    "\n",
    "    def fit(self, X, y):\n",
    "        n_samples, n_features = X.shape\n",
    "        self.weights = np.zeros(n_features)\n",
    "        self.bias = 0\n",
    "        y_ = np.array([1 if i > 0 else 0 for i in y])\n",
    "        for _ in range(self.n_iters):\n",
    "            print(_)\n",
    "            for idx, x_i in enumerate(X):\n",
    "                linear_output = np.dot(x_i, self.weights) + self.bias\n",
    "                y_predicted = self.activation_func(linear_output)\n",
    "                update = self.lr * (y_[idx] - y_predicted)\n",
    "                self.weights += update * x_i\n",
    "                self.bias += update\n",
    "                print(idx, x_i)\n",
    "# \n",
    "    def predict(self, X):\n",
    "        linear_output = np.dot(X, self.weights) + self.bias\n",
    "        y_predicted = self.activation_func(linear_output)\n",
    "        return y_predicted\n",
    "\n",
    "    def _unit_step_func(self, x):\n",
    "        return np.where(x>=0, 1, 0)"
   ]
  },
  {
   "cell_type": "code",
   "execution_count": 100,
   "metadata": {},
   "outputs": [],
   "source": [
    "# Training the model\n",
    "data = pd.read_csv(\"./Website Phishing.csv\")\n",
    "data.head(10)\n",
    "x=data.values.tolist()\n",
    "training_data=[i[:-1] for i in x]\n",
    "label_value=[i[-1] for i in x]\n",
    "# perceptron_model=Perceptron()\n",
    "# perceptron_model.fit(np.array(training_data), label_value)"
   ]
  },
  {
   "cell_type": "code",
   "execution_count": 13,
   "metadata": {},
   "outputs": [
    {
     "name": "stdout",
     "output_type": "stream",
     "text": [
      "accuracy: 0.8477457501847746\n",
      "precision:  [0.8333333333333334, 0.8252427184466019, 0.8704379562043796]\n",
      "recall:  [0.9701492537313433, 0.5448717948717948, 0.803030303030303]\n"
     ]
    },
    {
     "data": {
      "image/png": "[encoded data removed]",
      "text/plain": [
       "<Figure size 432x288 with 2 Axes>"
      ]
     },
     "metadata": {
      "needs_background": "light"
     },
     "output_type": "display_data"
    }
   ],
   "source": [
    "# Prediction\n",
    "import seaborn as sns\n",
    "import random as r\n",
    "from sklearn.metrics import confusion_matrix\n",
    "perceptron_predictions=[]\n",
    "for i in range(len(training_data)):\n",
    "    res=perceptron_model.predict(training_data[i])\n",
    "    perceptron_predictions.append(res)\n",
    "\n",
    "c=confusion_matrix(label_value, perceptron_predictions)\n",
    "sns.heatmap(c, annot=True)\n",
    "\n",
    "perceptron_accuracy=calculate_accuracy(c)\n",
    "perceptron_precision=calculate_precision(c)\n",
    "perceptron_recall=calculate_recall(c)\n",
    "\n",
    "print(\"accuracy:\", perceptron_accuracy)\n",
    "print(\"precision: \", perceptron_precision)\n",
    "print(\"recall: \", perceptron_recall)"
   ]
  },
  {
   "cell_type": "code",
   "execution_count": 58,
   "metadata": {},
   "outputs": [
    {
     "data": {
      "text/plain": [
       "MLPClassifier(activation='relu', alpha=1e-06, batch_size='auto', beta_1=0.9,\n",
       "              beta_2=0.999, early_stopping=False, epsilon=1e-08,\n",
       "              hidden_layer_sizes=(15, 7), learning_rate='constant',\n",
       "              learning_rate_init=0.001, max_fun=15000, max_iter=4000,\n",
       "              momentum=0.9, n_iter_no_change=10, nesterovs_momentum=True,\n",
       "              power_t=0.5, random_state=1, shuffle=True, solver='lbfgs',\n",
       "              tol=0.0001, validation_fraction=0.1, verbose=False,\n",
       "              warm_start=False)"
      ]
     },
     "execution_count": 58,
     "metadata": {},
     "output_type": "execute_result"
    }
   ],
   "source": [
    "# multilayer perceptron with backpropagation\n",
    "from sklearn.neural_network import MLPClassifier\n",
    "X = [i[:-1] for i in x]\n",
    "y = [i[-1] for i in x]\n",
    "clf = MLPClassifier(solver='lbfgs', alpha=1e-6, hidden_layer_sizes=(15,7), random_state=1, max_iter=4000)\n",
    "clf.fit(X, y)"
   ]
  },
  {
   "cell_type": "code",
   "execution_count": 59,
   "metadata": {},
   "outputs": [
    {
     "name": "stdout",
     "output_type": "stream",
     "text": [
      "accuracy: 0.9600886917960089\n",
      "precision:  [0.9643874643874644, 1.0, 0.9470802919708029]\n",
      "recall:  [0.9671428571428572, 0.8879310344827587, 0.9664804469273743]\n"
     ]
    },
    {
     "data": {
      "image/png": "[encoded data removed]",
      "text/plain": [
       "<Figure size 432x288 with 2 Axes>"
      ]
     },
     "metadata": {
      "needs_background": "light"
     },
     "output_type": "display_data"
    }
   ],
   "source": [
    "# multilayer perceptron prediction\n",
    "X=[i[:-1] for i in x]\n",
    "multilayer_perceptron_results=[]\n",
    "for i in range(len(training_data)):\n",
    "    res=clf.predict([X[i]])\n",
    "    multilayer_perceptron_results.append(res[0])\n",
    "   \n",
    "c=confusion_matrix(label_value, multilayer_perceptron_results)\n",
    "sns.heatmap(c, annot=True)\n",
    "\n",
    "multilayer_perceptron_accuracy=calculate_accuracy(c)\n",
    "multilayer_perceptron_precision=calculate_precision(c)\n",
    "multilayer_perceptron_recall=calculate_recall(c)\n",
    "\n",
    "print(\"accuracy:\", multilayer_perceptron_accuracy)\n",
    "print(\"precision: \", multilayer_perceptron_precision)\n",
    "print(\"recall: \", multilayer_perceptron_recall)"
   ]
  },
  {
   "cell_type": "code",
   "execution_count": null,
   "metadata": {},
   "outputs": [],
   "source": [
    "# ADALINE"
   ]
  },
  {
   "cell_type": "code",
   "execution_count": 60,
   "metadata": {},
   "outputs": [
    {
     "data": {
      "text/plain": [
       "Pipeline(memory=None,\n",
       "         steps=[('standardscaler',\n",
       "                 StandardScaler(copy=True, with_mean=True, with_std=True)),\n",
       "                ('sgdclassifier',\n",
       "                 SGDClassifier(alpha=0.0001, average=False, class_weight=None,\n",
       "                               early_stopping=False, epsilon=0.1, eta0=0.0,\n",
       "                               fit_intercept=True, l1_ratio=0.15,\n",
       "                               learning_rate='optimal', loss='hinge',\n",
       "                               max_iter=10000, n_iter_no_change=5, n_jobs=None,\n",
       "                               penalty='l2', power_t=0.5, random_state=None,\n",
       "                               shuffle=True, tol=1e-05, validation_fraction=0.1,\n",
       "                               verbose=0, warm_start=False))],\n",
       "         verbose=False)"
      ]
     },
     "execution_count": 60,
     "metadata": {},
     "output_type": "execute_result"
    }
   ],
   "source": [
    "from sklearn.linear_model import SGDClassifier\n",
    "from sklearn.preprocessing import StandardScaler\n",
    "from sklearn.pipeline import make_pipeline\n",
    "\n",
    "clf = make_pipeline(StandardScaler(),SGDClassifier(max_iter=10000, tol=1e-5))\n",
    "clf.fit(X, y)\n"
   ]
  },
  {
   "cell_type": "code",
   "execution_count": 61,
   "metadata": {},
   "outputs": [
    {
     "name": "stdout",
     "output_type": "stream",
     "text": [
      "accuracy: 0.804138950480414\n",
      "precision:  [0.9216524216524217, 0.1553398058252427, 0.7755474452554745]\n",
      "recall:  [0.804726368159204, 0.41025641025641024, 0.8333333333333334]\n"
     ]
    },
    {
     "data": {
      "image/png": "[encoded data removed]",
      "text/plain": [
       "<Figure size 432x288 with 2 Axes>"
      ]
     },
     "metadata": {
      "needs_background": "light"
     },
     "output_type": "display_data"
    }
   ],
   "source": [
    "adaline_results=[]\n",
    "X=[i[:-1] for i in x]\n",
    "for i in range(len(training_data)):\n",
    "    res=clf.predict([X[i]])\n",
    "    adaline_results.append(res[0])\n",
    "\n",
    "c=confusion_matrix(label_value, adaline_results)\n",
    "sns.heatmap(c, annot=True)\n",
    "\n",
    "adaline_accuracy=calculate_accuracy(c)\n",
    "adaline_precison=calculate_precision(c)\n",
    "adaline_recall=calculate_recall(c)\n",
    "\n",
    "print(\"accuracy:\", adaline_accuracy)\n",
    "print(\"precision: \", adaline_precison)\n",
    "print(\"recall: \", adaline_recall)"
   ]
  },
  {
   "cell_type": "code",
   "execution_count": null,
   "metadata": {},
   "outputs": [],
   "source": [
    "# MLP classsifier"
   ]
  },
  {
   "cell_type": "code",
   "execution_count": 101,
   "metadata": {},
   "outputs": [],
   "source": [
    "from sklearn.neural_network import MLPClassifier\n",
    "from sklearn.datasets import make_classification\n",
    "from sklearn.model_selection import train_test_split\n",
    "clf = MLPClassifier(random_state=1, max_iter=1000).fit(training_data, label_value)"
   ]
  },
  {
   "cell_type": "code",
   "execution_count": 102,
   "metadata": {},
   "outputs": [
    {
     "name": "stdout",
     "output_type": "stream",
     "text": [
      "accuracy: 0.9563932002956393\n",
      "precision:  [0.9700854700854701, 0.9902912621359223, 0.9324817518248175]\n",
      "recall:  [0.9564606741573034, 0.8869565217391304, 0.9714828897338403]\n"
     ]
    },
    {
     "data": {
      "image/png": "[encoded data removed]",
      "text/plain": [
       "<Figure size 432x288 with 2 Axes>"
      ]
     },
     "metadata": {
      "needs_background": "light"
     },
     "output_type": "display_data"
    }
   ],
   "source": [
    "mlp_results=[]\n",
    "X=[i[:-1] for i in x]\n",
    "for i in range(len(training_data)):\n",
    "    res=clf.predict([X[i]])\n",
    "    mlp_results.append(res[0])\n",
    "\n",
    "c=confusion_matrix(label_value, mlp_results)\n",
    "sns.heatmap(c, annot=True)\n",
    "\n",
    "mlp_accuracy=calculate_accuracy(c)\n",
    "mlp_precision=calculate_precision(c)\n",
    "mlp_recall=calculate_recall(c)\n",
    "\n",
    "print(\"accuracy:\", mlp_accuracy)\n",
    "print(\"precision: \", mlp_precision)\n",
    "print(\"recall: \", mlp_recall)"
   ]
  },
  {
   "cell_type": "code",
   "execution_count": 64,
   "metadata": {},
   "outputs": [
    {
     "name": "stdout",
     "output_type": "stream",
     "text": [
      "Collecting sklearn-genetic\n",
      "  Downloading sklearn_genetic-0.4.1-py2.py3-none-any.whl (10 kB)\n",
      "Requirement already satisfied: scikit-learn>=0.20.3 in c:\\users\\johnconda\\lib\\site-packages (from sklearn-genetic) (0.22.1)\n",
      "Collecting deap>=1.0.2\n",
      "  Downloading deap-1.3.1-cp37-cp37m-win_amd64.whl (108 kB)\n",
      "Requirement already satisfied: numpy>=1.11.0 in c:\\users\\johnconda\\lib\\site-packages (from scikit-learn>=0.20.3->sklearn-genetic) (1.19.5)\n",
      "Requirement already satisfied: joblib>=0.11 in c:\\users\\johnconda\\lib\\site-packages (from scikit-learn>=0.20.3->sklearn-genetic) (0.14.1)\n",
      "Requirement already satisfied: scipy>=0.17.0 in c:\\users\\johnconda\\lib\\site-packages (from scikit-learn>=0.20.3->sklearn-genetic) (1.4.1)\n",
      "Installing collected packages: deap, sklearn-genetic\n",
      "Successfully installed deap-1.3.1 sklearn-genetic-0.4.1\n"
     ]
    }
   ],
   "source": [
    "!pip install sklearn-genetic"
   ]
  },
  {
   "cell_type": "code",
   "execution_count": 76,
   "metadata": {},
   "outputs": [],
   "source": [
    "from __future__ import print_function\n",
    "import numpy as np\n",
    "from sklearn import datasets, linear_model\n",
    "from genetic_selection import GeneticSelectionCV"
   ]
  },
  {
   "cell_type": "code",
   "execution_count": 77,
   "metadata": {},
   "outputs": [
    {
     "name": "stdout",
     "output_type": "stream",
     "text": [
      "Selecting features with genetic algorithm.\n",
      "gen\tnevals\tavg                    \tstd                    \tmin                    \tmax                    \n",
      "0  \t50    \t[0.71410327 2.8       ]\t[0.08486699 1.32664992]\t[0.51884652 1.        ]\t[0.81893126 5.        ]\n",
      "1  \t28    \t[0.77912571 3.22      ]\t[0.04342309 1.25363472]\t[0.61121225 1.        ]\t[0.81893126 5.        ]\n",
      "2  \t23    \t[-199.21147525    2.8       ]\t[1.40011265e+03 1.32664992e+00]\t[-1.e+04  1.e+00]      \t[0.81893126 6.        ]\n",
      "3  \t32    \t[0.81191007 2.1       ]      \t[0.01421853 0.83066239]        \t[0.75241219 1.        ]\t[0.81893126 4.        ]\n",
      "4  \t30    \t[0.81776351 1.96      ]      \t[0.00558703 0.39799497]        \t[0.78048927 1.        ]\t[0.81893126 3.        ]\n",
      "5  \t34    \t[0.81856187 2.02      ]      \t[0.0025857 0.14     ]          \t[0.80046194 2.        ]\t[0.81893126 3.        ]\n",
      "6  \t31    \t[0.81198415 2.06      ]      \t[0.03887611 0.46518813]        \t[0.54472051 1.        ]\t[0.82856089 5.        ]\n",
      "7  \t29    \t[0.81634533 2.12      ]      \t[0.01166579 0.51536395]        \t[0.75241219 2.        ]\t[0.82856089 5.        ]\n",
      "8  \t31    \t[0.81671663 2.42      ]      \t[0.01237959 0.9610411 ]        \t[0.75241219 2.        ]\t[0.82856089 5.        ]\n",
      "9  \t21    \t[0.81578806 2.88      ]      \t[0.01481564 1.2749902 ]        \t[0.75241219 1.        ]\t[0.82856089 5.        ]\n",
      "10 \t31    \t[-199.20397048    3.54      ]\t[1.40011372e+03 1.34476764e+00]\t[-1.e+04  2.e+00]      \t[0.82856089 6.        ]\n",
      "11 \t30    \t[0.81823644 4.16      ]      \t[0.04044943 1.30169121]        \t[0.54472051 1.        ]\t[0.83594369 5.        ]\n",
      "12 \t24    \t[-199.1876123    4.88     ]  \t[1.40011606e+03 5.15363949e-01]\t[-1.e+04  2.e+00]      \t[0.83594369 6.        ]\n",
      "13 \t24    \t[0.82984529 4.78      ]      \t[0.00287408 0.46      ]        \t[0.82633593 3.        ]\t[0.83594369 5.        ]\n",
      "14 \t31    \t[-199.18533798    4.64      ]\t[1.40011638e+03 5.20000000e-01]\t[-1.e+04  4.e+00]      \t[0.83594369 6.        ]\n",
      "15 \t42    \t[-399.19954741    4.24      ]\t[1.95975519e+03 6.18384993e-01]\t[-1.e+04  3.e+00]      \t[0.83594369 7.        ]\n",
      "16 \t29    \t[0.8347315 4.       ]        \t[0.00778029 0.2       ]        \t[0.78050567 3.        ]\t[0.83594369 5.        ]\n",
      "17 \t23    \t[0.83547066 4.02      ]      \t[0.00291926 0.14      ]        \t[0.81524122 4.        ]\t[0.83594369 5.        ]\n",
      "18 \t28    \t[0.83445133 4.02      ]      \t[0.00758566 0.31559468]        \t[0.78272789 3.        ]\t[0.83594369 5.        ]\n",
      "19 \t31    \t[0.83468722 3.96      ]      \t[0.0075436  0.19595918]        \t[0.78272789 3.        ]\t[0.83594369 4.        ]\n",
      "20 \t37    \t[0.83443614 4.        ]      \t[0.01013998 0.2       ]        \t[0.7635151 3.       ]  \t[0.83594369 5.        ]\n",
      "21 \t30    \t[0.83434757 4.02      ]      \t[0.01014902 0.24413111]        \t[0.7635151 3.       ]  \t[0.83594369 5.        ]\n"
     ]
    }
   ],
   "source": [
    "estimator = linear_model.LogisticRegression(solver=\"liblinear\", multi_class=\"ovr\")\n",
    "selector = GeneticSelectionCV(estimator,\n",
    "                              cv=5,\n",
    "                              verbose=1,\n",
    "                              scoring=\"accuracy\",\n",
    "                              max_features=5,\n",
    "                              n_population=50,\n",
    "                              crossover_proba=0.5,\n",
    "                              mutation_proba=0.2,\n",
    "                              n_generations=40,\n",
    "                              crossover_independent_proba=0.5,\n",
    "                              mutation_independent_proba=0.05,\n",
    "                              tournament_size=3,\n",
    "                              n_gen_no_change=10,\n",
    "                              caching=True,\n",
    "                              n_jobs=-1)\n",
    "selector = selector.fit(training_data, label_value)"
   ]
  },
  {
   "cell_type": "code",
   "execution_count": 78,
   "metadata": {},
   "outputs": [
    {
     "name": "stdout",
     "output_type": "stream",
     "text": [
      "[ True  True  True  True False False False False False]\n"
     ]
    }
   ],
   "source": [
    "print(selector.support_)"
   ]
  },
  {
   "cell_type": "code",
   "execution_count": 83,
   "metadata": {},
   "outputs": [
    {
     "name": "stdout",
     "output_type": "stream",
     "text": [
      "accuracy: 0.8329637841832964\n",
      "precision:  0.8329637841832964\n",
      "recall:  0.8329637841832964\n"
     ]
    },
    {
     "name": "stderr",
     "output_type": "stream",
     "text": [
      "C:\\Users\\JohnConda\\lib\\site-packages\\ipykernel_launcher.py:13: RuntimeWarning: invalid value encountered in longlong_scalars\n",
      "  del sys.path[0]\n"
     ]
    },
    {
     "data": {
      "image/png": "[encoded data removed]",
      "text/plain": [
       "<Figure size 432x288 with 2 Axes>"
      ]
     },
     "metadata": {
      "needs_background": "light"
     },
     "output_type": "display_data"
    }
   ],
   "source": [
    "genetic_algorithm=[]\n",
    "X=[i[:-1] for i in x]\n",
    "for i in range(len(training_data)):\n",
    "    res=selector.predict([X[i]])\n",
    "    genetic_algorithm.append(res[0])\n",
    "\n",
    "c=confusion_matrix(label_value, genetic_algorithm)\n",
    "sns.heatmap(c, annot=True)\n",
    "\n",
    "genetic_algorithm_accuracy=calculate_accuracy(c)\n",
    "genetic_algorithm_precision=calculate_precision(c)\n",
    "genetic_algorithm_recall=calculate_recall(c)\n",
    "\n",
    "print(\"accuracy:\", genetic_algorithm_accuracy)\n",
    "print(\"precision: \", genetic_algorithm_accuracy)\n",
    "print(\"recall: \", genetic_algorithm_accuracy)"
   ]
  },
  {
   "cell_type": "code",
   "execution_count": 103,
   "metadata": {},
   "outputs": [
    {
     "data": {
      "image/png": "[encoded data removed]",
      "text/plain": [
       "<Figure size 432x288 with 1 Axes>"
      ]
     },
     "metadata": {
      "needs_background": "light"
     },
     "output_type": "display_data"
    }
   ],
   "source": [
    "# accuracy histogram\n",
    "import matplotlib.pyplot as plt\n",
    "\n",
    "x = [perceptron_accuracy, multilayer_perceptron_accuracy, adaline_accuracy, mlp_accuracy, genetic_algorithm_accuracy]\n",
    "y=[1,2,3,4,5]\n",
    "\n",
    "left = [1, 2, 3, 4, 5]\n",
    "height = x\n",
    "\n",
    "tick_label = ['Perceptron', 'Multilayer Perceptron', 'Adaline', 'MLP', 'Genetic Algorithm']\n",
    "plt.bar(left, height, tick_label = tick_label, width = 0.8, color = ['red', 'blue'])\n",
    "plt.xlabel('models')\n",
    "\n",
    "plt.ylabel('accuracy')\n",
    "\n",
    "plt.title('Accuracy comparison')\n",
    "\n",
    "plt.show()"
   ]
  },
  {
   "cell_type": "code",
   "execution_count": 105,
   "metadata": {},
   "outputs": [],
   "source": [
    "import pickle\n",
    "filename = 'MLP_Model.sav'\n",
    "pickle.dump(clf, open(filename, 'wb'))"
   ]
  },
  {
   "cell_type": "code",
   "execution_count": 106,
   "metadata": {},
   "outputs": [],
   "source": [
    "filename=\"Multilayer_Perceptron_Model.sav\"\n",
    "pickle.dump(mlp, open(filename, 'wb'))"
   ]
  }
 ],
 "metadata": {
  "kernelspec": {
   "display_name": "Python 3",
   "language": "python",
   "name": "python3"
  },
  "language_info": {
   "codemirror_mode": {
    "name": "ipython",
    "version": 3
   },
   "file_extension": ".py",
   "mimetype": "text/x-python",
   "name": "python",
   "nbconvert_exporter": "python",
   "pygments_lexer": "ipython3",
   "version": "3.7.6"
  }
 },
 "nbformat": 4,
 "nbformat_minor": 4
}
