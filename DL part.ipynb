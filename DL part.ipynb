{
 "cells": [
  {
   "cell_type": "code",
   "execution_count": 1,
   "metadata": {},
   "outputs": [
    {
     "name": "stdout",
     "output_type": "stream",
     "text": [
      " Volume in drive C is Acer\n",
      " Volume Serial Number is 6EB4-30B0\n",
      "\n",
      " Directory of C:\\Users\\John Samuel\\Desktop\\DMT project\n",
      "\n",
      "06/04/2021  03:12 AM    <DIR>          .\n",
      "06/04/2021  03:12 AM    <DIR>          ..\n",
      "06/03/2021  01:44 PM    <DIR>          .ipynb_checkpoints\n",
      "06/04/2021  03:12 AM            82,264 DL part.ipynb\n",
      "06/03/2021  08:54 PM           626,939 ML part.ipynb\n",
      "10/23/2019  01:17 AM            33,145 Website Phishing.csv\n",
      "               3 File(s)        742,348 bytes\n",
      "               3 Dir(s)  765,842,006,016 bytes free\n"
     ]
    }
   ],
   "source": [
    "import numpy as np\n",
    "import pandas as pd\n",
    "import os\n",
    "\n",
    "!dir"
   ]
  },
  {
   "cell_type": "code",
   "execution_count": null,
   "metadata": {},
   "outputs": [],
   "source": [
    "# Single layer perceptron implementation"
   ]
  },
  {
   "cell_type": "code",
   "execution_count": 2,
   "metadata": {},
   "outputs": [],
   "source": [
    "def calculate_precision(arr):\n",
    "    precision=[]\n",
    "    for i in range(len(arr)):\n",
    "        sumVal=0\n",
    "        for j in range(len(arr)):\n",
    "            sumVal+=arr[i][j]\n",
    "        precision.append(arr[i][i]/sumVal)\n",
    "    return precision"
   ]
  },
  {
   "cell_type": "code",
   "execution_count": 3,
   "metadata": {},
   "outputs": [],
   "source": [
    "def calculate_accuracy(arr):\n",
    "    leading_diagonal=0\n",
    "    for i in range(0, len(arr)):\n",
    "        leading_diagonal+=arr[i][i]\n",
    "    return leading_diagonal/sum(sum(np.array(arr)))\n",
    "\n",
    "def calculate_recall(arr):\n",
    "    recall=[]\n",
    "    for i in range(len(arr)):\n",
    "        sumVal=0\n",
    "        for j in range(len(arr)):\n",
    "            sumVal+=arr[j][i]\n",
    "        recall.append(arr[i][i]/sumVal)\n",
    "    return recall"
   ]
  },
  {
   "cell_type": "code",
   "execution_count": 9,
   "metadata": {},
   "outputs": [],
   "source": [
    "import numpy as np\n",
    "\n",
    "class Perceptron:\n",
    "    def __init__(self, learning_rate=0.05, n_iters=1000):\n",
    "        self.lr = learning_rate\n",
    "        self.n_iters = n_iters\n",
    "        self.activation_func = self._unit_step_func\n",
    "        self.weights = None\n",
    "        self.bias = None\n",
    "\n",
    "    def fit(self, X, y):\n",
    "        n_samples, n_features = X.shape\n",
    "        self.weights = np.zeros(n_features)\n",
    "        self.bias = 0\n",
    "        y_ = np.array([1 if i > 0 else 0 for i in y])\n",
    "        for _ in range(self.n_iters):\n",
    "            for idx, x_i in enumerate(X):\n",
    "                linear_output = np.dot(x_i, self.weights) + self.bias\n",
    "                y_predicted = self.activation_func(linear_output)\n",
    "                update = self.lr * (y_[idx] - y_predicted)\n",
    "                self.weights += update * x_i\n",
    "                self.bias += update\n",
    "                \n",
    "    def predict(self, X):\n",
    "        linear_output = np.dot(X, self.weights) + self.bias\n",
    "        y_predicted = self.activation_func(linear_output)\n",
    "        return y_predicted\n",
    "\n",
    "    def _unit_step_func(self, x):\n",
    "        return np.where(x>=0, 1, 0)"
   ]
  },
  {
   "cell_type": "code",
   "execution_count": 16,
   "metadata": {},
   "outputs": [],
   "source": [
    "# Training the model\n",
    "data = pd.read_csv(\"./Website Phishing.csv\")\n",
    "data.head(10)\n",
    "x=data.values.tolist()\n",
    "training_data=[i[:-1] for i in x]\n",
    "label_value=[i[-1] for i in x]\n",
    "\n",
    "testing_data=training_data[int(len(training_data)*.8):]\n",
    "test_label_value=label_value[int(len(training_data)*.8):]\n",
    "perceptron_model=Perceptron()\n",
    "perceptron_model.fit(np.array(training_data), np.array(label_value))"
   ]
  },
  {
   "cell_type": "code",
   "execution_count": 22,
   "metadata": {},
   "outputs": [
    {
     "name": "stdout",
     "output_type": "stream",
     "text": [
      "accuracy: 0.8523985239852399\n",
      "precision:  [0.8515625, 0.8181818181818182, 0.859504132231405]\n",
      "recall:  [0.9646017699115044, 0.5142857142857142, 0.8455284552845529]\n"
     ]
    },
    {
     "data": {
      "image/png": "[encoded data removed]",
      "text/plain": [
       "<Figure size 432x288 with 2 Axes>"
      ]
     },
     "metadata": {
      "needs_background": "light"
     },
     "output_type": "display_data"
    }
   ],
   "source": [
    "# Prediction\n",
    "import seaborn as sns\n",
    "import random as r\n",
    "from sklearn.metrics import confusion_matrix\n",
    "perceptron_predictions= perceptron_model.predict(testing_data)\n",
    "        \n",
    "c=confusion_matrix(test_label_value, perceptron_predictions)\n",
    "sns.heatmap(c, annot=True)\n",
    "\n",
    "perceptron_accuracy=calculate_accuracy(c)\n",
    "perceptron_precision=calculate_precision(c)\n",
    "perceptron_recall=calculate_recall(c)\n",
    "\n",
    "print(\"accuracy:\", perceptron_accuracy)\n",
    "print(\"precision: \", perceptron_precision)\n",
    "print(\"recall: \", perceptron_recall)"
   ]
  },
  {
   "cell_type": "code",
   "execution_count": 23,
   "metadata": {},
   "outputs": [
    {
     "data": {
      "text/plain": [
       "MLPClassifier(activation='relu', alpha=1e-06, batch_size='auto', beta_1=0.9,\n",
       "              beta_2=0.999, early_stopping=False, epsilon=1e-08,\n",
       "              hidden_layer_sizes=(15, 7), learning_rate='constant',\n",
       "              learning_rate_init=0.001, max_fun=15000, max_iter=4000,\n",
       "              momentum=0.9, n_iter_no_change=10, nesterovs_momentum=True,\n",
       "              power_t=0.5, random_state=1, shuffle=True, solver='lbfgs',\n",
       "              tol=0.0001, validation_fraction=0.1, verbose=False,\n",
       "              warm_start=False)"
      ]
     },
     "execution_count": 23,
     "metadata": {},
     "output_type": "execute_result"
    }
   ],
   "source": [
    "# multilayer perceptron with backpropagation\n",
    "from sklearn.neural_network import MLPClassifier\n",
    "X = [i[:-1] for i in x]\n",
    "y = [i[-1] for i in x]\n",
    "clf = MLPClassifier(solver='lbfgs', alpha=1e-6, hidden_layer_sizes=(15,7), random_state=1, max_iter=4000)\n",
    "clf.fit(X, y)"
   ]
  },
  {
   "cell_type": "code",
   "execution_count": 24,
   "metadata": {},
   "outputs": [
    {
     "name": "stdout",
     "output_type": "stream",
     "text": [
      "accuracy: 0.9600886917960089\n",
      "precision:  [0.9643874643874644, 1.0, 0.9470802919708029]\n",
      "recall:  [0.9671428571428572, 0.8879310344827587, 0.9664804469273743]\n"
     ]
    },
    {
     "data": {
      "image/png": "[encoded data removed]",
      "text/plain": [
       "<Figure size 432x288 with 2 Axes>"
      ]
     },
     "metadata": {
      "needs_background": "light"
     },
     "output_type": "display_data"
    }
   ],
   "source": [
    "# multilayer perceptron prediction\n",
    "X=[i[:-1] for i in x]\n",
    "multilayer_perceptron_results=[]\n",
    "for i in range(len(training_data)):\n",
    "    res=clf.predict([X[i]])\n",
    "    multilayer_perceptron_results.append(res[0])\n",
    "   \n",
    "c=confusion_matrix(label_value, multilayer_perceptron_results)\n",
    "sns.heatmap(c, annot=True)\n",
    "\n",
    "multilayer_perceptron_accuracy=calculate_accuracy(c)\n",
    "multilayer_perceptron_precision=calculate_precision(c)\n",
    "multilayer_perceptron_recall=calculate_recall(c)\n",
    "\n",
    "print(\"accuracy:\", multilayer_perceptron_accuracy)\n",
    "print(\"precision: \", multilayer_perceptron_precision)\n",
    "print(\"recall: \", multilayer_perceptron_recall)"
   ]
  },
  {
   "cell_type": "code",
   "execution_count": null,
   "metadata": {},
   "outputs": [],
   "source": [
    "# ADALINE"
   ]
  },
  {
   "cell_type": "code",
   "execution_count": 36,
   "metadata": {},
   "outputs": [
    {
     "data": {
      "text/plain": [
       "Pipeline(memory=None,\n",
       "         steps=[('standardscaler',\n",
       "                 StandardScaler(copy=True, with_mean=True, with_std=True)),\n",
       "                ('sgdclassifier',\n",
       "                 SGDClassifier(alpha=0.0001, average=False, class_weight=None,\n",
       "                               early_stopping=False, epsilon=0.1, eta0=0.0,\n",
       "                               fit_intercept=True, l1_ratio=0.15,\n",
       "                               learning_rate='optimal', loss='hinge',\n",
       "                               max_iter=10000, n_iter_no_change=5, n_jobs=None,\n",
       "                               penalty='l2', power_t=0.5, random_state=None,\n",
       "                               shuffle=True, tol=1e-06, validation_fraction=0.1,\n",
       "                               verbose=0, warm_start=False))],\n",
       "         verbose=False)"
      ]
     },
     "execution_count": 36,
     "metadata": {},
     "output_type": "execute_result"
    }
   ],
   "source": [
    "from sklearn.linear_model import SGDClassifier\n",
    "from sklearn.preprocessing import StandardScaler\n",
    "from sklearn.pipeline import make_pipeline\n",
    "\n",
    "adl = make_pipeline(StandardScaler(),SGDClassifier(max_iter=10000, tol=1e-6))\n",
    "adl.fit(X, y)"
   ]
  },
  {
   "cell_type": "code",
   "execution_count": 37,
   "metadata": {},
   "outputs": [
    {
     "name": "stdout",
     "output_type": "stream",
     "text": [
      "accuracy: 0.8240946045824095\n",
      "precision:  [0.8646723646723646, 0.05825242718446602, 0.916058394160584]\n",
      "recall:  [0.883551673944687, 0.2222222222222222, 0.7856025039123631]\n"
     ]
    },
    {
     "data": {
      "image/png": "[encoded data removed]",
      "text/plain": [
       "<Figure size 432x288 with 2 Axes>"
      ]
     },
     "metadata": {
      "needs_background": "light"
     },
     "output_type": "display_data"
    }
   ],
   "source": [
    "adaline_results=[]\n",
    "X=[i[:-1] for i in x]\n",
    "for i in range(len(training_data)):\n",
    "    res=adl.predict([X[i]])\n",
    "    adaline_results.append(res[0])\n",
    "\n",
    "c=confusion_matrix(label_value, adaline_results)\n",
    "sns.heatmap(c, annot=True)\n",
    "\n",
    "adaline_accuracy=calculate_accuracy(c)\n",
    "adaline_precison=calculate_precision(c)\n",
    "adaline_recall=calculate_recall(c)\n",
    "\n",
    "print(\"accuracy:\", adaline_accuracy)\n",
    "print(\"precision: \", adaline_precison)\n",
    "print(\"recall: \", adaline_recall)"
   ]
  },
  {
   "cell_type": "code",
   "execution_count": null,
   "metadata": {},
   "outputs": [],
   "source": [
    "# MLP regressor"
   ]
  },
  {
   "cell_type": "code",
   "execution_count": 38,
   "metadata": {},
   "outputs": [],
   "source": [
    "from sklearn.neural_network import MLPClassifier\n",
    "from sklearn.datasets import make_classification\n",
    "from sklearn.model_selection import train_test_split\n",
    "mlp = MLPregressor(random_state=1, max_iter=100\n",
    "                   0).fit(training_data, label_value)"
   ]
  },
  {
   "cell_type": "code",
   "execution_count": 39,
   "metadata": {},
   "outputs": [
    {
     "name": "stdout",
     "output_type": "stream",
     "text": [
      "accuracy: 0.9563932002956393\n",
      "precision:  [0.9700854700854701, 0.9902912621359223, 0.9324817518248175]\n",
      "recall:  [0.9564606741573034, 0.8869565217391304, 0.9714828897338403]\n"
     ]
    },
    {
     "data": {
      "image/png": "[encoded data removed]",
      "text/plain": [
       "<Figure size 432x288 with 2 Axes>"
      ]
     },
     "metadata": {
      "needs_background": "light"
     },
     "output_type": "display_data"
    }
   ],
   "source": [
    "mlp_results=[]\n",
    "X=[i[:-1] for i in x]\n",
    "for i in range(len(training_data)):\n",
    "    res=mlp.predict([X[i]])\n",
    "    mlp_results.append(res[0])\n",
    "\n",
    "c=confusion_matrix(label_value, mlp_results)\n",
    "sns.heatmap(c, annot=True)\n",
    "\n",
    "mlp_accuracy=calculate_accuracy(c)\n",
    "mlp_precision=calculate_precision(c)\n",
    "mlp_recall=calculate_recall(c)\n",
    "\n",
    "print(\"accuracy:\", mlp_accuracy)\n",
    "print(\"precision: \", mlp_precision)\n",
    "print(\"recall: \", mlp_recall)"
   ]
  },
  {
   "cell_type": "code",
   "execution_count": 40,
   "metadata": {},
   "outputs": [
    {
     "name": "stdout",
     "output_type": "stream",
     "text": [
      "Requirement already satisfied: sklearn-genetic in c:\\users\\johnconda\\lib\\site-packages (0.4.1)\n",
      "Requirement already satisfied: scikit-learn>=0.20.3 in c:\\users\\johnconda\\lib\\site-packages (from sklearn-genetic) (0.22.1)\n",
      "Requirement already satisfied: deap>=1.0.2 in c:\\users\\johnconda\\lib\\site-packages (from sklearn-genetic) (1.3.1)\n",
      "Requirement already satisfied: joblib>=0.11 in c:\\users\\johnconda\\lib\\site-packages (from scikit-learn>=0.20.3->sklearn-genetic) (0.14.1)\n",
      "Requirement already satisfied: scipy>=0.17.0 in c:\\users\\johnconda\\lib\\site-packages (from scikit-learn>=0.20.3->sklearn-genetic) (1.4.1)\n",
      "Requirement already satisfied: numpy>=1.11.0 in c:\\users\\johnconda\\lib\\site-packages (from scikit-learn>=0.20.3->sklearn-genetic) (1.19.5)\n"
     ]
    }
   ],
   "source": [
    "!pip install sklearn-genetic"
   ]
  },
  {
   "cell_type": "code",
   "execution_count": 41,
   "metadata": {},
   "outputs": [],
   "source": [
    "from __future__ import print_function\n",
    "from sklearn import datasets, linear_model\n",
    "from genetic_selection import GeneticSelectionCV"
   ]
  },
  {
   "cell_type": "code",
   "execution_count": 42,
   "metadata": {},
   "outputs": [
    {
     "name": "stdout",
     "output_type": "stream",
     "text": [
      "Selecting features with genetic algorithm.\n",
      "gen\tnevals\tavg                    \tstd                    \tmin                    \tmax                    \n",
      "0  \t50    \t[0.69993817 2.76      ]\t[0.08325431 1.40797727]\t[0.51884652 1.        ]\t[0.82856089 5.        ]\n",
      "1  \t26    \t[-399.2820433    3.56     ]\t[1.95973835e+03 1.34402381e+00]\t[-1.e+04  1.e+00]      \t[0.82929343 7.        ]\n",
      "2  \t36    \t[-799.2848205    3.82     ]\t[2.71314289e+03 1.35188757e+00]\t[-1.e+04  1.e+00]      \t[0.82929343 6.        ]\n",
      "3  \t28    \t[-599.24597059    4.1       ]\t[2.37505892e+03 1.18743421e+00]\t[-1.e+04  2.e+00]      \t[0.83077217 7.        ]\n",
      "4  \t34    \t[-199.20411945    4.42      ]\t[1.4001137e+03 9.4000000e-01]  \t[-1.e+04  2.e+00]      \t[0.83077217 6.        ]\n",
      "5  \t33    \t[-799.24122023    4.96      ]\t[2.71315575e+03 5.64269439e-01]\t[-1.e+04  3.e+00]      \t[0.83594369 7.        ]\n",
      "6  \t27    \t[-1199.27173044     4.98      ]\t[3.24988429e+03 6.16116872e-01]\t[-1.e+04  3.e+00]      \t[0.83594369 7.        ]\n",
      "7  \t38    \t[-599.22280033    4.78      ]  \t[2.37506477e+03 6.41560597e-01]\t[-1.e+04  3.e+00]      \t[0.83594369 6.        ]\n",
      "8  \t36    \t[-799.23858751    4.64      ]  \t[2.71315652e+03 7.14422844e-01]\t[-1.e+04  3.e+00]      \t[0.83594369 6.        ]\n",
      "9  \t28    \t[-199.18346486    4.3       ]  \t[1.40011665e+03 5.38516481e-01]\t[-1.e+04  3.e+00]      \t[0.83594369 6.        ]\n",
      "10 \t25    \t[0.83322394 4.        ]        \t[0.01263714 0.28284271]        \t[0.7635151 3.       ]  \t[0.83594369 5.        ]\n",
      "11 \t22    \t[0.83439169 4.        ]        \t[0.00768424 0.28284271]        \t[0.78272789 3.        ]\t[0.83594369 5.        ]\n",
      "12 \t31    \t[0.83313489 4.04      ]        \t[0.01052083 0.28      ]        \t[0.78272789 3.        ]\t[0.83594369 5.        ]\n",
      "13 \t30    \t[0.83578128 4.04      ]        \t[0.00082612 0.19595918]        \t[0.83077217 4.        ]\t[0.83594369 5.        ]\n",
      "14 \t29    \t[0.82914386 3.9       ]        \t[0.01869924 0.36055513]        \t[0.7635151 3.       ]  \t[0.83594369 5.        ]\n",
      "15 \t29    \t[0.83464316 4.02      ]        \t[0.00780791 0.24413111]        \t[0.78050567 3.        ]\t[0.83594369 5.        ]\n"
     ]
    }
   ],
   "source": [
    "estimator = linear_model.LogisticRegression(solver=\"liblinear\", multi_class=\"ovr\")\n",
    "selector = GeneticSelectionCV(estimator,\n",
    "                              cv=5,\n",
    "                              verbose=1,\n",
    "                              scoring=\"accuracy\",\n",
    "                              max_features=5,\n",
    "                              n_population=50,\n",
    "                              crossover_proba=0.5,\n",
    "                              mutation_proba=0.2,\n",
    "                              n_generations=40,\n",
    "                              crossover_independent_proba=0.5,\n",
    "                              mutation_independent_proba=0.05,\n",
    "                              tournament_size=3,\n",
    "                              n_gen_no_change=10,\n",
    "                              caching=True,\n",
    "                              n_jobs=-1)\n",
    "selector = selector.fit(training_data, label_value)"
   ]
  },
  {
   "cell_type": "code",
   "execution_count": 44,
   "metadata": {},
   "outputs": [
    {
     "name": "stdout",
     "output_type": "stream",
     "text": [
      "accuracy: 0.8329637841832964\n",
      "precision:  0.8329637841832964\n",
      "recall:  0.8329637841832964\n"
     ]
    },
    {
     "name": "stderr",
     "output_type": "stream",
     "text": [
      "C:\\Users\\JohnConda\\lib\\site-packages\\ipykernel_launcher.py:13: RuntimeWarning: invalid value encountered in longlong_scalars\n",
      "  del sys.path[0]\n"
     ]
    },
    {
     "data": {
      "image/png": "[encoded data removed]",
      "text/plain": [
       "<Figure size 432x288 with 2 Axes>"
      ]
     },
     "metadata": {
      "needs_background": "light"
     },
     "output_type": "display_data"
    }
   ],
   "source": [
    "genetic_algorithm=[]\n",
    "X=[i[:-1] for i in x]\n",
    "for i in range(len(training_data)):\n",
    "    res=selector.predict([X[i]])\n",
    "    genetic_algorithm.append(res[0])\n",
    "\n",
    "c=confusion_matrix(label_value, genetic_algorithm)\n",
    "sns.heatmap(c, annot=True)\n",
    "\n",
    "genetic_algorithm_accuracy=calculate_accuracy(c)\n",
    "genetic_algorithm_precision=calculate_precision(c)\n",
    "genetic_algorithm_recall=calculate_recall(c)\n",
    "\n",
    "print(\"accuracy:\", genetic_algorithm_accuracy)\n",
    "print(\"precision: \", genetic_algorithm_accuracy)\n",
    "print(\"recall: \", genetic_algorithm_accuracy)"
   ]
  },
  {
   "cell_type": "code",
   "execution_count": 53,
   "metadata": {},
   "outputs": [
    {
     "data": {
      "image/png": "[encoded data removed]",
      "text/plain": [
       "<Figure size 432x288 with 1 Axes>"
      ]
     },
     "metadata": {
      "needs_background": "light"
     },
     "output_type": "display_data"
    }
   ],
   "source": [
    "# accuracy histogram\n",
    "import matplotlib.pyplot as plt\n",
    "xAxis = [perceptron_accuracy, multilayer_perceptron_accuracy, adaline_accuracy, mlp_accuracy, genetic_algorithm_accuracy]\n",
    "yAxis= [1,2,3,4,5]\n",
    "left = [1, 2, 3, 4, 5]\n",
    "height = xAxis\n",
    "\n",
    "tick_label = ['Perceptron', 'Multilayer Perceptron', 'Adaline', 'MLP regressor', 'Genetic Algorithm']\n",
    "plt.bar(left, height, tick_label = tick_label, width = 0.8, color = ['#581845', '#900c3f', '#c70039', '#ff5733', '#ffc30f' ])\n",
    "plt.xlabel('models')\n",
    "plt.ylabel('accuracy')\n",
    "plt.title('Accuracy comparison')\n",
    "\n",
    "plt.show()"
   ]
  },
  {
   "cell_type": "code",
   "execution_count": 105,
   "metadata": {},
   "outputs": [],
   "source": [
    "import pickle\n",
    "filename = 'MLP_Regressor_Model.sav'\n",
    "pickle.dump(clf, open(filename, 'wb'))"
   ]
  },
  {
   "cell_type": "code",
   "execution_count": 106,
   "metadata": {},
   "outputs": [],
   "source": [
    "filename=\"Multilayer_Perceptron_Model.sav\"\n",
    "pickle.dump(mlp, open(filename, 'wb'))"
   ]
  }
 ],
 "metadata": {
  "kernelspec": {
   "display_name": "Python 3",
   "language": "python",
   "name": "python3"
  },
  "language_info": {
   "codemirror_mode": {
    "name": "ipython",
    "version": 3
   },
   "file_extension": ".py",
   "mimetype": "text/x-python",
   "name": "python",
   "nbconvert_exporter": "python",
   "pygments_lexer": "ipython3",
   "version": "3.7.6"
  }
 },
 "nbformat": 4,
 "nbformat_minor": 4
}
